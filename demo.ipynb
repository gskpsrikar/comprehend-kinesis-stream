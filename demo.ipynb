{
 "cells": [
  {
   "cell_type": "code",
   "execution_count": 1,
   "id": "8d7b3ebf",
   "metadata": {},
   "outputs": [],
   "source": [
    "import os\n",
    "import uuid\n",
    "import random\n",
    "import ast\n",
    "import base64\n",
    "import json\n",
    "\n",
    "import boto3\n",
    "import pandas as pd\n",
    "\n",
    "REGION = boto3.session.Session().region_name"
   ]
  },
  {
   "cell_type": "markdown",
   "id": "e3c1865c",
   "metadata": {},
   "source": [
    "## Load the data from local storage"
   ]
  },
  {
   "cell_type": "code",
   "execution_count": 2,
   "id": "7d22c0b5",
   "metadata": {},
   "outputs": [],
   "source": [
    "df = pd.read_csv(\"Fake and Real News Dataset/True.csv\")"
   ]
  },
  {
   "cell_type": "code",
   "execution_count": 3,
   "id": "75edb06e",
   "metadata": {},
   "outputs": [],
   "source": [
    "def get_record(df):\n",
    "    \"\"\"\n",
    "    This is a generator to get a random record from the source dataframe. Also, converts\n",
    "    the data into bytes object. Data Streams accepts only bytes datatypes.\n",
    "    \"\"\"\n",
    "    while True:\n",
    "        record = df.sample(1).to_dict()\n",
    "        record = {\n",
    "            \"text\": \"\".join(record['text'].values()),\n",
    "        }\n",
    "        record = str(record).encode('utf-8')\n",
    "        yield record\n",
    "\n",
    "record_generator = get_record(df) # Initialize the generator"
   ]
  },
  {
   "cell_type": "markdown",
   "id": "05a21789",
   "metadata": {},
   "source": [
    "### Descriptive stats of the Real news data"
   ]
  },
  {
   "cell_type": "code",
   "execution_count": 81,
   "id": "8defcd3b",
   "metadata": {},
   "outputs": [
    {
     "data": {
      "text/plain": [
       "count    21417.000000\n",
       "mean       385.640099\n",
       "std        274.006204\n",
       "min          0.000000\n",
       "25%        148.000000\n",
       "50%        359.000000\n",
       "75%        525.000000\n",
       "max       5172.000000\n",
       "Name: text, dtype: float64"
      ]
     },
     "execution_count": 81,
     "metadata": {},
     "output_type": "execute_result"
    }
   ],
   "source": [
    "df.text.apply(lambda x:len(x.split())).describe()"
   ]
  },
  {
   "cell_type": "markdown",
   "id": "95f59e70",
   "metadata": {},
   "source": [
    "## PUT data into Kinesis Streams (randomly)"
   ]
  },
  {
   "cell_type": "code",
   "execution_count": 105,
   "id": "f670dcb8",
   "metadata": {},
   "outputs": [],
   "source": [
    "PARTITION_KEYS = [\n",
    "    'e3d3c5a376e74bbc93ce1ca675f1a021', \n",
    "    'def4af889a8d427cb59f7aad7fb6bd24', \n",
    "    '1af95ab90bdf4c3490f7ab52ca4c0b65', \n",
    "    'd1cf18d92f544c0oo18f30a0a0378e3b',\n",
    "    'd1cf18d92f544c0681uu30a0a0378e3b',\n",
    "    'd1cf18dttf544c06818f30a0a0378e3b',\n",
    "    'd1cf18dtyf544c06818f30a0a0378e3b',\n",
    "    'd1cf18d9df544c06818f3hh0a0378e3b',\n",
    "    'd1cfred92f544c06818f30a0a0378e3b',\n",
    "    'drrf18d92f544c06818f30a0a0378e3b',\n",
    "    'd1c568d92f544c06818f30a0a0378e3b',\n",
    "] # Streams putObject API requires users to specify a Partition parameter\n",
    "\n",
    "STREAM_NAME = \"news-stream\" # Name of the Kinesis Stream\n",
    "\n",
    "\n",
    "kinesis_client = boto3.client('kinesis') # Kinesis client"
   ]
  },
  {
   "cell_type": "code",
   "execution_count": 107,
   "id": "64b4d921",
   "metadata": {},
   "outputs": [
    {
     "name": "stdout",
     "output_type": "stream",
     "text": [
      "{'StreamName': 'news-stream', 'Data': b\"{'text': 'ISTANBUL/KHARTOUM (Reuters) - Turkey will rebuild a ruined Ottoman port city on Sudan s Red Sea coast and construct a naval dock to maintain civilian and military vessels, Sudan s foreign minister said on Tuesday, as Ankara expands military and economic ties in Africa. The restoration at Suakin was agreed during a visit to the ancient port by Turkish President Tayyip Erdogan, Foreign Minister Ibrahim Ghandour said. Making the first trip by a Turkish president to Sudan, Erdogan said Turkey had been temporarily granted part of Suakin so it could rebuild the area as a tourist site and a transit point for pilgrims crossing the Red Sea to Mecca. He said the Suakin deal was one of several, worth $650 million in total, agreed with Sudan, which emerged from two decades of U.S. sanctions in October and is seeking to attract international investment. The countries also agreed  to build a dock to maintain civilian and military vessels,  Ghandour told reporters, adding that they had signed an agreement  that could result in any kind of military cooperation . The agreements come three months after Turkey formally opened a $50 million military training base in Somalia as it exerts increasing influence in the region. Suakin was Sudan s major port when it was ruled by the Ottoman Empire, but fell into disuse over the last century after the construction of Port Sudan, 35 miles (60 km) to the north. Speaking on Monday in Khartoum, Erdogan said the refurbished port city would attract Mecca-bound pilgrims who would want to see the island s history, helping Sudan s tourism sector.  Imagine, people from Turkey wishing to go on pilgrimage will come and visit the historical areas on Suakin Island,  Erdogan said.  From there ... they will cross to Jeddah by boat.  The other agreements signed during Erdogan s visit include Turkish investment to build Khartoum s planned new airport and private sector investments in cotton production, electricity generation and building grain silos and meat slaughterhouses.  Erdogan and Bashir said they aimed for trade between the two countries to reach $10 billion, Turkey s Foreign Economic Relations Board said. In October, the United States lifted a trade embargo and other penalties that had cut Sudan off from much of the global financial system. Sudan s state minister for investment has said he aims to attract investment of $10 billion a year, compared to $1 billion estimated by the United Nations for 2016. '}\", 'PartitionKey': 'd1c568d92f544c06818f30a0a0378e3b'}\n",
      "{'StreamName': 'news-stream', 'Data': b\"{'text': '(Reuters) - President Donald Trump has appointed Eric Hargan as acting Secretary of Health and Human Services (HHS), the White House said on Tuesday. Hargan, the deputy secretary of HHS, formerly served on Trump\\xe2\\x80\\x99s transition team for HHS. The appointment follows Tom Price\\xe2\\x80\\x99s resignation as HHS Secretary late in September over his use of costly private charter planes for government business. U.S. Food and Drug Administration Commissioner Scott Gottlieb, considered a potential successor to Price, said on Tuesday he believed he could best serve the Trump administration in his current role. (This story has been refiled to correct paragraph 3 reference to late September, instead of last week.) '}\", 'PartitionKey': 'drrf18d92f544c06818f30a0a0378e3b'}\n",
      "{'StreamName': 'news-stream', 'Data': b\"{'text': 'JERUSALEM/GAZA (Reuters) - At least two people were killed in clashes with Israeli troops on Friday when thousands of Palestinians demonstrated against U.S. President Donald Trump s recognition of Jerusalem as Israel s capital and the Palestinian president said Washington could no longer be a peace broker. Across the Arab and Muslim worlds, thousands more protesters took to the streets on the Muslim holy day to express solidarity with the Palestinians and outrage at Trump s reversal of decades of U.S. policy. Israeli soldiers shot dead a Palestinian man near the Gaza border, the first confirmed death in two days of unrest. Scores of people were wounded on the  Day of Rage . A second person later died of their wounds, a Gaza hospital official said. The Israeli army said hundreds of Palestinians were rolling burning tyres and throwing rocks at soldiers across the border.  During the riots IDF soldiers fired selectively towards two main instigators and hits were confirmed,  it said. More than 80 Palestinians were wounded in the occupied West Bank and Gaza by Israeli live fire and rubber bullets, according to the Palestinian Red Crescent ambulance service. Dozens more suffered from tear gas inhalation. Thirty-one were wounded on Thursday. As Friday prayers ended at the Al Aqsa mosque in Jerusalem, worshippers made their way toward the walled Old City gates, chanting  Jerusalem is ours, Jerusalem is our capital  and  We don t need empty words, we need stones and Kalashnikovs . Scuffles broke out between protesters and police. In Hebron, Bethlehem and Nablus, dozens of Palestinians threw stones at Israeli soldiers who fired back with tear gas. In Gaza, controlled by the Islamist group Hamas, calls for worshippers to protest sounded over mosque loudspeakers. Hamas has called for a new Palestinian uprising like the  intifadas  of 1987-1993 and 2000-2005, which together saw thousands of Palestinians and more than 1,000 Israelis killed.  Whoever moves his embassy to occupied Jerusalem will become an enemy of the Palestinians and a target of Palestinian factions,  said Hamas leader Fathy Hammad as protesters in Gaza burned posters of Trump.  We declare an intifada until the liberation of Jerusalem and all of Palestine.  Protests largely died down as night fell. Rocket sirens sounded in southern Israeli towns near the Gaza border, and the Israeli military said it had intercepted one of at least two  projectiles fired from Gaza. No casualties were reported. Al Aqsa Martyrs  Brigade, a militant group linked to Abbas s Fatah party, claimed responsibility for firing one of the rockets, and said it was in protest against Trump s decision. The military said another rocket hit the Israeli town of Sderot. No casualties were reported. Israel s military said that in response to the rocket fire, its aircraft bombed militant targets in Gaza and the Palestinian Health Ministry said at least 25 people were wounded in the strikes, including six children. The Israeli military said it had carried out the strikes on a militant training camp and on a weapons depot. Witnesses said most of the wounded were residents of a building near the camp.  At the United Nations, U.S. ambassador to the United Nations Nikki Haley said Washington still had credibility as a mediator.  The United States has credibility with both sides. Israel will never be, and should never be, bullied into an agreement by the United Nations, or by any collection of countries that have proven their disregard for Israel s security,  Haley told the U.N. Security Council. But Palestinian President Mahmoud Abbas appeared defiant.  We reject the American decision over Jerusalem. With this position the United States has become no longer qualified to sponsor the peace process,  Abbas said in a statement. He did not elaborate further. France, Italy, Germany, Britain and Sweden called on the United States to  bring forward detailed proposals for an Israeli-Palestinian settlement . Trump s announcement on Wednesday has infuriated the Arab world and upset Western allies. The status of Jerusalem has been one of the biggest obstacles to a peace agreement between Israel and the Palestinians for generations. Israel considers all of Jerusalem to be its capital. Palestinians want the eastern part of the city as the capital of a future independent state of their own. Most countries consider East Jerusalem, which Israel annexed after capturing it in the 1967 Middle East War, to be occupied territory. It includes the Old City, home to sites considered holy to Muslims, Jews and Christians alike. For decades, Washington, like most of the rest of the international community, held back from recognizing Jerusalem as Israel s capital, saying its status should be determined as part of the Palestinian-Israeli peace process. No other country has an embassy there. The Trump administration argues that the peace process has become moribund, and outdated policies need to be jettisoned for the sides in the conflict to make progress. Trump has also noted that Barack Obama, George W. Bush and Bill Clinton all promised as candidates to recognize Jerusalem as Israel s capital.  I fulfilled my campaign promise - others didn t!  Trump tweeted on Friday with a video montage of campaign speeches on the issue by his three predecessors. U.S. Secretary of State Rex Tillerson said on Friday it would still be up to the Israelis and Palestinians to hammer out all other issues surrounding the city in future talks.  With respect to the rest of Jerusalem, the president ... did not indicate any final status for Jerusalem. He was very clear that the final status, including the borders, would be left to the two parties to negotiate and decide.  Still, some Muslim countries view the Trump administration s motives with particular suspicion. As a candidate he proposed banning all Muslims from entering the United States, and in office he has tried to block entry by citizens of several Muslim-majority states. In Ramallah, the seat of Abbas s Palestinian Authority, the leader s religious affairs adviser said Trump s stance was an affront to Islam and Christianity alike.  America has chosen to elect a president who has put it in enmity with all Muslims and Christians,  said Mahmoud al-Habbash. In Iran, which has never recognized Israel and supports anti-Israel militants, demonstrators burned pictures of Trump and Israeli Prime Minister Benjamin Netanyahu while chanting  Death to the Devil . In Cairo, capital of Egypt, a U.S. ally which has a peace treaty with Israel, hundreds of protesters who had gathered in Al-Azhar mosque and outside in its courtyard chanted  Jerusalem is Arab! O Trump, you madman, the Arab people are everywhere!  Al Azhar s Imam, Sheikh Ahmed al-Tayeb, rejected an invitation to meet U.S. Vice President Mike Pence. Large demonstrations also took place in Jordan, Tunisia, Somalia, Yemen, Malaysia and Indonesia, and hundreds protested outside the U.S. embassy in Berlin. France said the United States had sidelined itself in the Middle East.  The reality is they are alone and isolated on this issue,  Foreign Minister Jean-Yves Le Drian said. '}\", 'PartitionKey': 'd1cf18dtyf544c06818f30a0a0378e3b'}\n",
      "{'StreamName': 'news-stream', 'Data': b\"{'text': '(Reuters) - U.S. President Donald Trump said he is considering quotas and tariffs to deal with the \\xe2\\x80\\x9cbig problem\\xe2\\x80\\x9d of steel dumping from China and others. \\xe2\\x80\\x9cThey\\xe2\\x80\\x99re dumping steel and destroying our steel industry, they\\xe2\\x80\\x99ve been doing it for decades, and I\\xe2\\x80\\x99m stopping it.\\\\xa0It\\xe2\\x80\\x99ll stop,\\xe2\\x80\\x9d he told reporters on Air Force One during a flight from the United States to France. \\xe2\\x80\\x9cThere are two ways: quotas and tariffs.\\\\xa0 Maybe I\\xe2\\x80\\x99ll do both,\\xe2\\x80\\x9d he said. Steel stocks rallied on the news, recovering some of the year-to-date declines in the sector. The S&P 1500 steel sector index added as much as 3 percent shortly after Trump\\xe2\\x80\\x99s remarks. The index rallied nearly 40 percent in the weeks following the Nov. 8 election, but so far this year it was down 6.6 percent at Wednesday On Thursday, the VanEck Vectors steel exchange-traded fund rose 0.6 percent after being down 1 percent before Trump\\xe2\\x80\\x99s remarks. AK Steel shares gained 7.9 percent, Nucor gained 2.6 percent and US Steel added 4.0 percent.     Trump\\xe2\\x80\\x99s action on steel is a part of a campaign pledge he made to help revive U.S. manufacturing. The administration\\xe2\\x80\\x99s decision on steel could be unveiled in the coming weeks. Trump also said he would invite Russian President Vladimir Putin to the White House. \\xe2\\x80\\x9cI don\\xe2\\x80\\x99t think this is the right time, but the answer is yes, I would,\\xe2\\x80\\x9d Trump said when asked if he would extend such an invitation to the Russian leader. '}\", 'PartitionKey': 'd1cfred92f544c06818f30a0a0378e3b'}\n"
     ]
    },
    {
     "name": "stdout",
     "output_type": "stream",
     "text": [
      "{'StreamName': 'news-stream', 'Data': b\"{'text': 'WASHINGTON (Reuters) - U.S. President Donald Trump will meet April 6-7 with Chinese President Xi Jinping at the president\\xe2\\x80\\x99s Mar-a-Lago retreat in Florida, a source familiar with the meeting said on Tuesday. It will be their first face-to-face meeting since Trump took office on Jan. 20. Trump played host to Japanese Prime Minister Shinzo Abe last month at Mar-a-Lago, in Palm Beach, Florida. '}\", 'PartitionKey': 'd1cf18d92f544c0681uu30a0a0378e3b'}\n",
      "{'StreamName': 'news-stream', 'Data': b\"{'text': 'LONDON (Reuters) - An aardvark was killed and four meerkats are missing believed dead after a blaze tore through part of London Zoo early on Saturday, destroying a cafe and gift shop. The fire broke out shortly after 0600 GMT at the zoo s Animal Adventure section before spreading to the shop and cafe, near to an area where visitors can handle and feed animals, the zoo and London Fire Brigade said. More than 70 firefighters took three hours to bring the fire under control while desperate keepers who live on the site in Regent s Park in central London moved animals to safety. Some of the staff needed treatment for smoke inhalation and shock. Ten-year-old Misha the aardvark, one of the zoo s best-loved animals, perished in the fire and four of the meerkats were unaccounted for and are also presumed to have died. Taking their name from the Afrikaans word for  earth-pig , aardvarks are large burrowing mammals found across much of Africa.  We re absolutely devastated that Misha the aardvark has been killed and we re still trying to find out what happened to the meerkats, but at the moment the site where this fire took place is closed down,  Dominic Jermey, the zoo s Director General, told BBC TV.   At the moment we re not certain what has happened to the meerkats but I m not optimistic at this stage, unfortunately.  Other animals nearby are being monitored by vets, but the zoo said indications were that they were unaffected. It said it hoped to reopen on Sunday. It is the world s oldest scientific zoo, dating from 1826, and houses 20,166 animals, according to its inventory for 2017.  The fire brigade said it had sent 10 fire engines and 72 firefighters to the scene and added that the cause of the blaze was under investigation.  The fire mainly involved the cafe and shop but part of a nearby animal petting area was also affected,  said Station Manager David George.   When they arrived our crews were faced with a very well developed fire. They worked incredibly hard in arduous conditions to bring it under control as quickly as possible and to stop it from spreading to neighboring animal enclosures.  '}\", 'PartitionKey': 'd1cf18d9df544c06818f3hh0a0378e3b'}\n",
      "{'StreamName': 'news-stream', 'Data': b\"{'text': ' (Story refiles to add dropped word  not , in paragraph 10, in the September 7th story) By Simon Lewis KUTAPALONG, Bangladesh (Reuters) - The villagers said the soldiers came first, firing indiscriminately. Then came civilians, accompanying the soldiers, to loot and burn. Now in Bangladesh, 20 Muslims and Hindus gave interviews in which they recounted how they were forced out of their village of Kha Maung Seik in Myanmar s Rakhine State on Aug. 25.  The military brought some Rakhine Buddhists with them and torched the village,  said Kadil Hussein, 55.  All the Muslims in our village, about 10,000, fled. Some were killed by gunshots, the rest came here. There s not a single person left.  Hussein is staying with hundreds of other new arrivals at the Kutapalong refugee settlement, already home to thousands of Rohingya who fled earlier. Nearly 150,000 Rohingya have arrived in Bangladesh since Aug. 25, when insurgents of the Arakan Rohingya Salvation Army launched attacks on security forces in Rakhine State. Reuters interviewed villagers from Kha Maung Seik and neighboring hamlets, who described killings and the burning of homes in the military response to the insurgent attacks. Reuters has been unable to verify their accounts. Access to the area has been restricted since October, when the same insurgent group attacked police posts, killing nine. Myanmar says its forces are in a fight against  terrorists . State media has accused Rohingya militants of burning villages and killing civilians of all religions. Myanmar does not recognize the 1.1 million Rohingya as citizens, labeling them illegal immigrants from Bangladesh.  The refugees from Kha Maung Seik, and from numerous other villages across the north of Rakhine State, say Myanmar forces and ethnic Rakhine Buddhists are intent on forcing them out. One refugee, Body Alom, 28, said he hid in forest with thousands of others when the soldiers arrived. He waited for hours before emerging to look for his family. He says he saw corpses in paddy fields, and eventually found his mother and brother dead with gunshot wounds. Two other villagers said they saw bodies in the fields.  It wasn t safe, so I just left them,  he said.  I had no chance to give them a burial.  A military official denied that Buddhist civilians were working with authorities and instead accused Muslims of attacking other communities.  The military arrived at the village later but did not find any bodies,  said the military source, who declined to be identified as he is not authorized to speak to media. Another military source in the state capital, Sittwe, said Kha Maung Seik was in the conflict zone and clear information about what happened had yet to emerge. The main village of Kha Maung Seik was home to a mixed community, with Rohingya Muslims in the majority along with about 6,000 Rakhine Buddhists, Hindus and others. The village is known to the Rohingya as Foira Bazar for its market of about 1,000 shops where everyone did business. But relations have been strained for some time. A government plan to grant Hindus citizenship, violence in the state in 2012 and October, and an identity card scheme that the Rohingya rejected as it implied they were foreign, all contributed to tension, the refugees said. Since October, more soldiers were posted near the village, with border police. Patrols went house-to-house arresting anyone suspected of having militant links, they said. Abu Kalam, 31, showed Reuters welts on his back, arms and legs, and what he said were cigarette burns on his arms. He said he was detained by the military last month, before the attacks, as he was working in his vegetable patch with a knife.  After October, the military told us not to have knives. When they saw me using one they arrested me,  he said, adding he was kept in a barracks for six days.  They regularly tortured me, asking  are you connected with al-Yaqin? ,  he said, using another name for the rebels. Villagers in Kha Maung Seik say they heard shooting at 2 a.m. on Aug. 25. A military source in Maungdaw town and two Muslim residents said militants attacked a police post near the village that night. According to the military source, the rebels attacked with grenades then turned their attention to a Hindu neighborhood. Four Rohingya villagers separately gave Reuters accounts of how, at about 5 a.m., soldiers entered the village, firing indiscriminately. Thousands fled.  I was at the front of a big group running for cover, but I looked back and could see people at the back getting shot,  said Abul Hussein, 28. Later, grenades and mortar bombs were fired into the forest, according to Hussein and three other villagers.  I saw a mortar hit a group of people. Some died on the spot,  he said. From the forest, residents watched military and civilians loot and burn houses. Civilians helped gather bodies, according to Body Alom and two other villagers.  They collected the bodies, searching for belongings,  said Body Alom.  They took money, clothes, cows, everything. Then they burned the houses.  Members of Myanmar s small Hindu community seem to have been caught in the middle. The military source said some Hindus from Kha Maung Seik were unaccounted after the militant attack. A group of Hindu women refugees in Kutapalong said they saw eight Hindu men killed by Buddhist Rakhines after they refused to attack Muslims.  They asked my husband to join them to kill Rohingya but he refused, so they killed him,  said Anika Bala, 15. Six months pregnant, she said Muslims helped her get to Bangladesh. After seeing their homes burned, Kha Maung Seik s Muslim leaders decided it was too dangerous to stay.  We thought we might be able to return and live with other types of people,  said Mohammed Zubair, 30, assistant to the village chairman.   But we realized that s not possible.  About 100 men decided to stay and fight, Body Alom said.   One said to me  If I have to die, I will die here .  '}\", 'PartitionKey': '1af95ab90bdf4c3490f7ab52ca4c0b65'}\n",
      "{'StreamName': 'news-stream', 'Data': b\"{'text': 'BRUSSELS (Reuters) - The European Union agreed on Friday to move Brexit talks onto trade and a transition pact but some leaders cautioned that the final year of divorce negotiations before Britain s exit could be fraught with peril. EU leaders, who had offered British Prime Minister Theresa May a rare summit round of applause over dinner in Brussels the night before, took just 10 minutes to agree that she had made  sufficient progress  on divorce terms last week and to give negotiators a mandate to move on to the main phase of talks.  This is an important step on the road to delivering the smooth and orderly Brexit that people voted for in June of last year,  May said outside her home in Berkshire, southern England.  There is still more to do but we re well on the road to delivering a Brexit that will make Britain prosperous, strong and secure,  May said, reassuring her party s ardent Brexit supporters that departure is certain on March 29, 2019. Summit chair Donald Tusk said the world s biggest trading bloc would start  exploratory contacts  with Britain on what London wants in a future trade relationship, as well as starting discussion on the immediate post-Brexit transition. A transition period is crucial for investors and businesses who fear that a  cliff-edge  Brexit would disrupt trade flows and sow chaos through financial markets.  The head of the EU executive, Jean-Claude Juncker, cast May as a  tough, smart, polite and friendly negotiator    a polite nod to a woman facing ferocious and complex pressures at home, whose downfall Brussels fears would complicate talks further. Juncker, a veteran premier of Luxembourg, knows  what it s like to be a prime minister in trouble , one EU official said. While there was a  sigh of relief  at the summit table that Brexit talks can move forward, EU leaders said talks on a future free trade pact will not begin until after March   a date underlined by  guidelines  that set out how to proceed as Britain seeks to unravel more than 40 years of membership. The talks will be tough.   We have made good progress, the second phase of talks can start,  German Chancellor Angela Merkel said.  But this will mean even tougher work - that was clear today in the discussion - than we have experienced so far.   Sterling GBP=D3 reversed gains and fell 0.8 percent on the day to $1.3327. Austrian Chancellor Christian Kern went further, saying even a primary school student could see that the  first phase  deal on the Irish border would come back to haunt the talks because it was impossible for Britain to leave the bloc s single market while avoiding a hard border on the island of Ireland.  Our primary school students can see that there is a riddle to be solved,  the Austrian leader told reporters. In more formal language, leaders used the nine-point guidelines they agreed at the summit to support May s call for a two-year transition out of the bloc, which aims to help British business and citizens adjust to life after the European Union. Both sides see it as looking pretty much like membership of the EU without a say in its rules, though there are also a host of issues that will again demonstrate the complexity of Brexit. Leaders reiterated their position that Britain cannot conclude a free-trade accord with the European Union until it has left and become a  third country . And it may take longer than the 15 months from now that some in London are hoping for. Noting a call from Britain s Brexit Secretary David Davis for a  Canada plus plus plus  deal that would go beyond the pact the EU signed with Ottawa, one senior EU official noted that last year s agreement ran to 1,598 pages of legal text.  Nine months on Brexit have produced 15 pages of non-legal text,  he said, adding that even launching trade talks in March would be  quite ambitious , let alone completing them in 2019. In coded language aimed at ensuring that Britain s departure will not set a precedent for others and further undermine the bloc, leaders also agreed to  ensure a balance of rights and obligations  during Britain s transition period. The question of how Britain might continue to benefit from the EU s free trade deals with other countries, such as Canada or Japan, has yet to be settled legally, EU officials said. Irish Prime Minister Leo Varadkar cautioned that there were  quite divergent opinions  on how a new relationship and transition would look. EU officials are unsure exactly how far Britain should continue to receive the full, unfettered economic benefits of EU membership during a transition after it leaves, even if it loses political representation in Brussels. May, weakened after losing her Conservative Party s majority in a June election, has so far carried her divided government and party with her as she negotiated the first phase of talks. But the next, more decisive phase is likely to lay bare the deep rifts among her top team of ministers over what Britain should become after Brexit. The Dutch, traditionally British allies, said May should explain to voters just what the cost of leaving the EU s single market and customs union would mean for the economy.  It means, for example, that the financial sector of London will have a considerable disadvantage to the position they have now,  Prime Minister Mark Rutte said. '}\", 'PartitionKey': 'd1cf18d9df544c06818f3hh0a0378e3b'}\n"
     ]
    },
    {
     "name": "stdout",
     "output_type": "stream",
     "text": [
      "{'StreamName': 'news-stream', 'Data': b\"{'text': 'BERLIN (Reuters) - Germany\\xe2\\x80\\x99s Economy Minister Sigmar Gabriel said on Sunday that talks on the Transatlantic Trade and Investment Partnership (TTIP), a free trade deal being negotiated by the United States and the European Union, had essentially failed. \\xe2\\x80\\x9cThe negotiations with the USA have de facto failed because we Europeans did not want to subject ourselves to American demands,\\xe2\\x80\\x9d he said, according to a written transcript from German broadcaster ZDF of an interview due to be broadcast on Sunday. \\xe2\\x80\\x9cThings are not moving on that front,\\xe2\\x80\\x9d said Gabriel, who is also Germany\\xe2\\x80\\x99s vice chancellor. The U.S. and the EU have been negotiating the TTIP for three years and both sides had sought to conclude talks in 2016 but they have differences over various issues, including agriculture. '}\", 'PartitionKey': 'drrf18d92f544c06818f30a0a0378e3b'}\n",
      "{'StreamName': 'news-stream', 'Data': b\"{'text': 'LOS ANGELES (Reuters) - California Governor Jerry Brown signed into law on Tuesday a package of bills intended to use market forces to cut greenhouse gas emissions, extending by a decade the state\\xe2\\x80\\x99s signature plan to combat climate change. The legislation puts California at the forefront of plans by mostly Democratic governors to reduce carbon emissions and adhere to the goals of the Paris climate change accord after Republican President Donald Trump withdrew the United States from the pact. \\xe2\\x80\\x9cCalifornia is leading the world in dealing with a principal existential threat that humanity faces,\\xe2\\x80\\x9d Brown said at a  signing ceremony in San Francisco. \\xe2\\x80\\x9cWe are a nation-state in a globalizing world and we\\xe2\\x80\\x99re having an impact and you\\xe2\\x80\\x99re here witnessing one of the key milestones in turning around this carbonized world into a decarbonized, sustainable future,\\xe2\\x80\\x9d he said. Both houses of California\\xe2\\x80\\x99s Democratic-controlled legislature passed the bills on July 17. Opponents had said they represented a \\xe2\\x80\\x9cregressive\\xe2\\x80\\x9d tax that would not affect climate change. California\\xe2\\x80\\x99s cap-and-trade program sets a state limit on emissions of greenhouse gases and lets companies, such as factories and refineries, buy and sell permits to emit carbon dioxide. The system uses market forces to find the most efficient ways to cut pollution, supporters say. The legislation extends the program, which was set to expire in three years, through 2030. But it also seeks to strengthen the program by cutting the number of free carbon allowances and requiring that offsets be sourced from California, not elsewhere. Large industrial facilities will also be required to upgrade old equipment with cleaner, more modern technology by 2023. Despite holding a supermajority, Democrats failed in previous attempts to pass new cap-and-trade legislation over opposition from more liberal members of the party who felt it did not go far enough and moderates concerned about the impact on business. Republicans were largely united in opposing the legislation, saying it placed unfair burdens on consumers and employers, especially on top of a 12-cents-a-gallon gasoline tax hike passed by state lawmakers earlier this year. '}\", 'PartitionKey': 'd1cf18dttf544c06818f30a0a0378e3b'}\n"
     ]
    }
   ],
   "source": [
    "for _ in range(10):    \n",
    "    put_params = {\n",
    "        'StreamName': STREAM_NAME,\n",
    "        'Data': next(record_generator),\n",
    "        'PartitionKey': random.choice(PARTITION_KEYS)\n",
    "    }\n",
    "\n",
    "    try: \n",
    "        assert STREAM_NAME in kinesis_client.list_streams()['StreamNames']\n",
    "        print(put_params)\n",
    "        kinesis_client.put_record(**put_params)\n",
    "    except AssertionError as e:\n",
    "        print(f\"Assertion Error: Stream '{STREAM_NAME}' is not found in region {REGION}\")"
   ]
  },
  {
   "cell_type": "markdown",
   "id": "b08cef9f",
   "metadata": {},
   "source": [
    "## Sample Data"
   ]
  },
  {
   "cell_type": "code",
   "execution_count": 60,
   "id": "1c0d631f",
   "metadata": {},
   "outputs": [
    {
     "data": {
      "text/plain": [
       "<module 'lambdas.receive_stream' from 'C:\\\\Users\\\\gskps\\\\OneDrive\\\\Documents\\\\Repositories\\\\comprehend-kinesis-stream\\\\lambdas\\\\receive_stream.py'>"
      ]
     },
     "execution_count": 60,
     "metadata": {},
     "output_type": "execute_result"
    }
   ],
   "source": [
    "records_list = [{'text': 'WASHINGTON (Reuters) - A U.S. judge on Thursday warned lawyers for Paul Manafort and Richard Gates, former advisers to President Donald Trump’s presidential campaign, not to speak about their case outside of court, saying it could interfere with the ability to conduct a fair trial. “This is a criminal trial and not a public relations campaign,” Judge Amy Berman Jackson said during a hearing on the case. The judge said initial bail terms for both men would remain in place for now, and she set a bail hearing for Monday to consider changes. She also indicated an openness to a proposal from the defense to begin the trial in April, and said it was possible a tentative trial date could be set on Monday. ', 'timestamp': '2023-07-27 04:38:39.122000', 'id': '6a7abdad50b84bb19cb237c2d386e786'}, {'text': 'NEW YORK (Reuters) - New Jersey Governor Chris Christie took a drubbing on social media for his demeanor in an appearance with Republican presidential front-runner Donald Trump at a televised victory speech and news conference on Super Tuesday. Adding to his woes, six New Jersey newspapers called on Christie to resign, partly for endorsing Trump after dropping out of the race to become the Republican Party’s candidate in November’s election. A Christie spokesman, Brian Murray, declined to comment immediately on the editorial, which appeared in newspapers owned by Gannett Co Inc (GCI.N). Christie surprisingly endorsed Trump on Friday, calling the billionaire New York businessman “the best person to beat Hillary Clinton in November.” Some questioned whether Christie’s enthusiasm was genuine following his appearance at Trump’s event in Palm Beach, Florida on Tuesday night. Trump appeared before TV cameras after news media organizations declared him the winner of some of the state-by-state primaries and caucuses and as Super Tuesday results continued rolling in. Christie introduced Trump, then stood behind and just to the right of the brash billionaire. The governor stared blankly ahead, at times looking troubled, as Trump took reporters’ questions. The reaction to Christie’s demeanor was swift and unforgiving on social media. “This is what a man collapsing under the weight of his own shame looks like,” Sean D. Illing (@sean_illing) tweeted on Tuesday. “Did #ChrisChristie look pathetic standing behind #Trump, or what?!?”  Karen Walz (@khwalz) tweeted on Wednesday. News website BuzzFeed on Tuesday evening tweeted a clip of the video footage set to the classic Simon and Garfunkel song “Sounds of Silence,” with the caption “Hello darkness, my old friend,” a lyric from the song. Christie spokesman Murray would not comment on the social media reaction, saying in an email, “I’ll let you know when we opt to slide down into that muck.”    In the editorial calling on Christie to resign, the six newspapers, including the Asbury Park Press, called his endorsement hypocritical. “We’re disgusted with (Christie’s) endorsement of Donald Trump after he spent months on the campaign trail trashing him, calling him unqualified by temperament and experience to be president,” the editorial read. Christie, serving the second of two four-year terms, is not slated to leave office until December 2017.  (Reporting By Amy Tennery in New York; Additional reporting by Gina Cherelus in New York) This article was funded in part by SAP. It was independently created by the Reuters editorial staff. SAP had no editorial involvement in its creation or production.', 'timestamp': '2023-07-27 04:38:39.246000', 'id': 'd889253248614d4d9783d0cbb9b85e3e'}, {'text': 'PHILADELPHIA (Reuters) - When President Donald Trump was elected last November, Republican lawmakers enthusiastically joined his call to rewrite the tax code and dismantle Obamacare in the first 100 days of his presidency. But as congressional Republicans gathered for an annual policy retreat in Philadelphia on Wednesday, the 100-day goal morphed into 200 days. As the week wore on, leaders were saying it could take until the end of 2017 - or possibly longer - for passage of final legislation. Trump had a different idea when he spoke to lawmakers in Philadelphia, telling them: Enough talk. Time to deliver. The divergent views on the timetable were among many indications of tensions that simmered just below the surface at the three-day Republican retreat. Before the cameras, Trump and Republicans sought to convey an image of a happy, unified family, playing down differences over tax policy, whether to reinstate torture interrogation techniques and investigating 2016 election fraud. And clearly there is none of the open warfare that has sometimes erupted among Republicans, such as when Senator Ted Cruz infuriated many of his colleagues by leading a standoff over Obamacare that partially shut down the government in 2013. But barely visible in Philadelphia, there are potential flashpoints of disagreement within the Republican rank-and-file in Congress as well as between Republican lawmakers and the unorthodox new president. These include how and when to replace Obamacare if Republicans succeed in their quest to repeal it; how to revamp the multi-layered tax code, whether to build a wall on the U.S. border with Mexico and the nature of the U.S. relationship with Russia. When it comes to tax reform, senior congressional aides said the spring of 2018 might be a more likely time than this year for the passage of legislation. Republican lawmakers lavished praise on Trump in public. In dozens of interviews, many said they felt he would be an energetic champion of issues they cared about. But some also voiced fears that his big agenda would drive up deficits and said they were still searching for details on his plans. Several Republican lawmakers and aides said they were wary of the cost of his plan to build a wall on the border with Mexico. Republican leaders have said the wall proposal under discussion would cost $12 billion to $15 billion cost but some congressional aides say it could end up easily topping $20 billion. Republican Representative Will Hurd, whose Texas district partially borders Mexico, went a step further, calling the wall an ineffective tool for stopping illegal immigration. Others warned a border adjustment tax on foreign goods to pay for that wall could hurt U.S. companies’ profits, raise costs for American consumers and spark retaliation by foreign trading partners. Some lawmakers also worry that some of their constituents could be at risk of losing healthcare coverage if the push to repeal Obamacare moves too quickly. Republican Representative Tom Cole said rank-and-file lawmakers have an incentive to fall in line behind Trump. “You don’t want to be the reason why we weren’t successful in getting these things done,” he said. Still, Cole said Republicans are taking stock of the potential cost of the biggest items on Trump’s agenda such as the wall, infrastructure projects, tax cuts and beefing up military spending. “I think they worry about it,” Cole said.  Following Trump’s speech to the lawmakers on Thursday, Senator James Risch said that no decisions had been made on the replacement of Obamacare, a complex law that has expanded healthcare insurance to millions of Americans. “It’s going to take a while to resolve it,” Risch said. Asked by reporters whether Republicans had a clear idea of what Trump would like to replace Obamacare with, Risch responded, “In detail, no.” ', 'timestamp': '2023-07-27 04:38:39.409000', 'id': '7c85c419af68462b86404eaca912e607'}, {'text': 'WASHINGTON (Reuters) - Republican presidential hopeful Ted Cruz lashed out at rival candidate Donald Trump on the day of Indiana’s primary on Tuesday, calling him a pathological liar, narcissist and bully after the front-runner linked Cruz’s father to John F. Kennedy’s assassin. “I’m going to tell you what I really think of Donald Trump. This man is a pathological liar. He doesn’t know the difference between truth and lies,” Cruz told reporters in a scathing indictment. “He lies practically every word that comes out of his mouth. And...his response is to accuse everybody else of lying.” In a television appearance earlier, Trump linked Cruz’s father, Rafael Cruz, to Kennedy assassin Lee Harvey Oswald, citing a report by National Enquirer, a supermarket tabloid known for celebrity gossip and alien sightings. “You know, his father was with Lee Harvey Oswald prior to Oswald’s being — you know, shot. I mean, the whole thing is ridiculous. What is this, right prior to his being shot, and nobody brings it up,” Trump said on “Fox & Friends.”  Republicans in Indiana might give New York billionaire Trump an almost unstoppable advantage in his turbulent journey toward the party’s presidential nomination.  The real estate mogul holds a double-digit polling lead in the Midwestern state over Cruz, a U.S. Senator of Texas.    Cruz denounced the Enquirer and its chief executive, David Pecker, who has endorsed Trump, for claiming his father, a Cuban immigrant to the United States, was pictured handing out pro-Fidel Castro literature with Oswald in New Orleans in 1963. “Yes, my dad killed JFK, he is secretly Elvis and Jimmy Hoffa is buried in his back yard,” Cruz said in a sarcastic retort. Cruz also unleashed fury over Trump’s earlier comment about his wife, Heidi. “Donald has a real problem with women. Donald is terrified by strong women - he lashes out at them,” Cruz said.  “The man is utterly amoral. Morality does not exist for him,” Cruz said. ', 'timestamp': '2023-07-27 04:38:39.598000', 'id': '8a64b013e1024784b2b360a14a0ef70e'}, {'text': 'HARARE (Reuters) - Former Zimbabwe finance minister Tendai Biti said on Thursday he would be happy to work in any national unity government that emerges from this week s coup, but only if opposition leader Morgan Tsvangirai was also on board.  If Morgan says he s in, I m in,  Biti, who earned international respect during his time as finance minister in a 2009-2013 unity government, told Reuters.  The country needs a solid pair of hands so one might not have a choice.  ', 'timestamp': '2023-07-27 04:38:41.617000', 'id': 'c2bcb78b18ca433d9cb95d062fa79f15'}]"
   ]
  }
 ],
 "metadata": {
  "kernelspec": {
   "display_name": "Python 3 (ipykernel)",
   "language": "python",
   "name": "python3"
  },
  "language_info": {
   "codemirror_mode": {
    "name": "ipython",
    "version": 3
   },
   "file_extension": ".py",
   "mimetype": "text/x-python",
   "name": "python",
   "nbconvert_exporter": "python",
   "pygments_lexer": "ipython3",
   "version": "3.10.0"
  }
 },
 "nbformat": 4,
 "nbformat_minor": 5
}
